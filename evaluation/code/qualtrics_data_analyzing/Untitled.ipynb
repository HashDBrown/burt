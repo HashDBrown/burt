{
 "cells": [
  {
   "cell_type": "code",
   "execution_count": 1,
   "metadata": {},
   "outputs": [
    {
     "name": "stdout",
     "output_type": "stream",
     "text": [
      "[{'question': 'S2R_panel_usefulness', 'type': 'Useless', 'value': 1, 'percentage': 5.555555555555555, 'percentage_start': 0, 'percentage_end': 5.555555555555555, 'position': 2.7777777777777777, 'numbers': '5.6%'}, {'question': 'S2R_panel_usefulness', 'type': 'Neither useful nor useless', 'value': 1, 'percentage': 5.555555555555555, 'percentage_start': 5.555555555555555, 'percentage_end': 11.11111111111111, 'position': 8.333333333333332, 'numbers': '5.6%'}, {'question': 'S2R_panel_usefulness', 'type': 'Somewhat useful', 'value': 5, 'percentage': 27.77777777777778, 'percentage_start': 11.11111111111111, 'percentage_end': 38.888888888888886, 'position': 25.0, 'numbers': '27.8%'}, {'question': 'S2R_panel_usefulness', 'type': 'Useful', 'value': 11, 'percentage': 61.111111111111114, 'percentage_start': 38.888888888888886, 'percentage_end': 100.0, 'position': 69.44444444444444, 'numbers': '61.1%'}]\n",
      "Displaying chart at http://localhost:24548/\n"
     ]
    }
   ],
   "source": [
    "run qualtrics_data_processing.py"
   ]
  },
  {
   "cell_type": "code",
   "execution_count": null,
   "metadata": {},
   "outputs": [
    {
     "name": "stdout",
     "output_type": "stream",
     "text": [
      "[{'question': 'BURT_easy_to_use', 'type': 'Somewhat difficult to use', 'value': 2, 'percentage': 11.11111111111111, 'percentage_start': 0, 'percentage_end': 11.11111111111111, 'position': 5.555555555555555, 'numbers': '11.1%'}, {'question': 'BURT_easy_to_use', 'type': 'Neither easy nor difficult to use', 'value': 5, 'percentage': 27.77777777777778, 'percentage_start': 11.11111111111111, 'percentage_end': 38.888888888888886, 'position': 25.0, 'numbers': '27.8%'}, {'question': 'BURT_easy_to_use', 'type': 'Somewhat easy to use', 'value': 8, 'percentage': 44.44444444444444, 'percentage_start': 38.888888888888886, 'percentage_end': 83.33333333333333, 'position': 61.11111111111111, 'numbers': '44.4%'}, {'question': 'BURT_easy_to_use', 'type': 'Easy to use', 'value': 3, 'percentage': 16.666666666666664, 'percentage_start': 83.33333333333333, 'percentage_end': 100.0, 'position': 91.66666666666666, 'numbers': '16.7%'}]\n",
      "Displaying chart at http://localhost:24548/\n"
     ]
    }
   ],
   "source": [
    "run qualtrics_data_processing.py"
   ]
  },
  {
   "cell_type": "code",
   "execution_count": null,
   "metadata": {},
   "outputs": [],
   "source": []
  }
 ],
 "metadata": {
  "kernelspec": {
   "display_name": "Python 3",
   "language": "python",
   "name": "python3"
  },
  "language_info": {
   "codemirror_mode": {
    "name": "ipython",
    "version": 3
   },
   "file_extension": ".py",
   "mimetype": "text/x-python",
   "name": "python",
   "nbconvert_exporter": "python",
   "pygments_lexer": "ipython3",
   "version": "3.8.3"
  }
 },
 "nbformat": 4,
 "nbformat_minor": 4
}
